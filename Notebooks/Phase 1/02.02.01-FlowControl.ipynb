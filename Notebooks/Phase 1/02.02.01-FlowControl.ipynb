{
 "cells": [
  {
   "cell_type": "markdown",
   "metadata": {
    "collapsed": true,
    "pycharm": {
     "name": "#%% md\n"
    }
   },
   "source": [
    "# 02.02.01 - Flow Control\n",
    "\n",
    "## Description\n",
    "\n",
    "This document demonstrates loops and various methods of flow control"
   ]
  },
  {
   "cell_type": "code",
   "execution_count": 6,
   "outputs": [
    {
     "name": "stdout",
     "output_type": "stream",
     "text": [
      "myList length: 20\n"
     ]
    },
    {
     "data": {
      "text/plain": "[1, 2, 3, 4, 5, 6, 7, 8, 9, 10, 11, 12, 13, 14, 15, 16, 17, 18, 19, 20]"
     },
     "execution_count": 6,
     "metadata": {},
     "output_type": "execute_result"
    }
   ],
   "source": [
    "# Generate 20 items\n",
    "myList = (list(range(1, 21)))\n",
    "print(f\"myList length: {len(myList)}\")\n",
    "myList"
   ],
   "metadata": {
    "collapsed": false,
    "pycharm": {
     "name": "#%%\n"
    }
   }
  },
  {
   "cell_type": "markdown",
   "source": [
    "# For Loops"
   ],
   "metadata": {
    "collapsed": false,
    "pycharm": {
     "name": "#%% md\n"
    }
   }
  },
  {
   "cell_type": "code",
   "execution_count": 9,
   "outputs": [
    {
     "name": "stdout",
     "output_type": "stream",
     "text": [
      "Index = 0, element = 1\n",
      "Index = 1, element = 2\n",
      "Index = 2, element = 3\n",
      "Index = 3, element = 4\n",
      "Index = 4, element = 5\n",
      "Index = 5, element = 6\n",
      "Index = 6, element = 7\n",
      "Index = 7, element = 8\n",
      "Index = 8, element = 9\n",
      "Index = 9, element = 10\n",
      "Index = 10, element = 11\n",
      "Index = 11, element = 12\n",
      "Index = 12, element = 13\n",
      "Index = 13, element = 14\n",
      "Index = 14, element = 15\n",
      "Index = 15, element = 16\n",
      "Index = 16, element = 17\n",
      "Index = 17, element = 18\n",
      "Index = 18, element = 19\n",
      "Index = 19, element = 20\n"
     ]
    }
   ],
   "source": [
    "index = 0\n",
    "for element in myList:\n",
    "    print(f\"Index = {index}, element = {element}\")\n",
    "    index += 1  # Increment by 1"
   ],
   "metadata": {
    "collapsed": false,
    "pycharm": {
     "name": "#%%\n"
    }
   }
  },
  {
   "cell_type": "markdown",
   "source": [
    "# While Loops"
   ],
   "metadata": {
    "collapsed": false,
    "pycharm": {
     "name": "#%% md\n"
    }
   }
  },
  {
   "cell_type": "code",
   "execution_count": 10,
   "outputs": [
    {
     "name": "stdout",
     "output_type": "stream",
     "text": [
      "x => 0\n",
      "x => 1\n",
      "x => 2\n",
      "x => 3\n",
      "x => 4\n",
      "x => 5\n",
      "x => 6\n",
      "x => 7\n",
      "x => 8\n",
      "x => 9\n"
     ]
    }
   ],
   "source": [
    "x = 0\n",
    "while x != 10:\n",
    "    print(f\"x => {x}\")\n",
    "    x += 1"
   ],
   "metadata": {
    "collapsed": false,
    "pycharm": {
     "name": "#%%\n"
    }
   }
  },
  {
   "cell_type": "markdown",
   "source": [
    "# If Conditions\n",
    "A very crucial understanding"
   ],
   "metadata": {
    "collapsed": false,
    "pycharm": {
     "name": "#%% md\n"
    }
   }
  },
  {
   "cell_type": "code",
   "execution_count": 11,
   "outputs": [
    {
     "name": "stdout",
     "output_type": "stream",
     "text": [
      "Yes, this is true\n"
     ]
    }
   ],
   "source": [
    "if True:\n",
    "    print(\"Yes, this is true\")"
   ],
   "metadata": {
    "collapsed": false,
    "pycharm": {
     "name": "#%%\n"
    }
   }
  },
  {
   "cell_type": "code",
   "execution_count": 13,
   "outputs": [
    {
     "name": "stdout",
     "output_type": "stream",
     "text": [
      "x => 0\n",
      "x => 2\n",
      "x => 4\n",
      "x => 6\n",
      "x => 8\n"
     ]
    }
   ],
   "source": [
    "# Combine with loops\n",
    "x = 0\n",
    "while x < 10:\n",
    "    if x % 2 == 0:\n",
    "        print(f\"x => {x}\")\n",
    "    x += 1"
   ],
   "metadata": {
    "collapsed": false,
    "pycharm": {
     "name": "#%%\n"
    }
   }
  },
  {
   "cell_type": "code",
   "execution_count": 15,
   "outputs": [
    {
     "name": "stdout",
     "output_type": "stream",
     "text": [
      "Index = 1, element = 2\n",
      "Index = 3, element = 4\n",
      "Index = 5, element = 6\n",
      "Index = 7, element = 8\n",
      "Index = 9, element = 10\n",
      "Index = 11, element = 12\n",
      "Index = 13, element = 14\n",
      "Index = 15, element = 16\n",
      "Index = 17, element = 18\n",
      "Index = 19, element = 20\n"
     ]
    }
   ],
   "source": [
    "index = 0\n",
    "for element in myList:\n",
    "    if element % 2 == 0:\n",
    "        print(f\"Index = {index}, element = {element}\")\n",
    "    index += 1"
   ],
   "metadata": {
    "collapsed": false,
    "pycharm": {
     "name": "#%%\n"
    }
   }
  },
  {
   "cell_type": "code",
   "execution_count": null,
   "outputs": [],
   "source": [],
   "metadata": {
    "collapsed": false,
    "pycharm": {
     "name": "#%%\n"
    }
   }
  }
 ],
 "metadata": {
  "kernelspec": {
   "display_name": "Python 3",
   "language": "python",
   "name": "python3"
  },
  "language_info": {
   "codemirror_mode": {
    "name": "ipython",
    "version": 2
   },
   "file_extension": ".py",
   "mimetype": "text/x-python",
   "name": "python",
   "nbconvert_exporter": "python",
   "pygments_lexer": "ipython2",
   "version": "2.7.6"
  }
 },
 "nbformat": 4,
 "nbformat_minor": 0
}