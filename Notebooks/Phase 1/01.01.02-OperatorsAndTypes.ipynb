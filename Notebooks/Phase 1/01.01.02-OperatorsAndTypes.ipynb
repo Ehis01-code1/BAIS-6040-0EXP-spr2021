{
 "cells": [
  {
   "cell_type": "markdown",
   "metadata": {
    "pycharm": {
     "name": "#%% md\n"
    }
   },
   "source": [
    "# 01.01.02 - Basic Operators and Types\n",
    "\n",
    "## Description\n",
    "This notebook goes over some basic python operators.\n",
    "\n",
    "## Definitions\n",
    "1. Integer = A whole number (e.g. 1, 2, 3)\n",
    "2. String = A combination of letters, numbers, or characters surrounded by quotes.\n",
    "3. Floating/Decimal = A number that has a variable precision (e.g. 1.25)\n",
    "\n",
    "There other types not covered explicitly here, but more can be found at"
   ]
  },
  {
   "cell_type": "code",
   "execution_count": 23,
   "metadata": {},
   "outputs": [],
   "source": [
    "# Assignment\n",
    "myInteger = 5\n",
    "myString = 'Hello'\n",
    "myFloat = 1.25"
   ]
  },
  {
   "cell_type": "code",
   "execution_count": 24,
   "metadata": {},
   "outputs": [
    {
     "data": {
      "text/plain": "500"
     },
     "execution_count": 24,
     "metadata": {},
     "output_type": "execute_result"
    }
   ],
   "source": [
    "# The last operation in a block, if yields a result, will print it out here.\n",
    "myInteger * 100"
   ]
  },
  {
   "cell_type": "code",
   "execution_count": 25,
   "metadata": {},
   "outputs": [],
   "source": [
    "# ... but assignments like this won't print the result\n",
    "myInteger = myInteger * 100"
   ]
  },
  {
   "cell_type": "code",
   "execution_count": 26,
   "metadata": {},
   "outputs": [
    {
     "data": {
      "text/plain": "500"
     },
     "execution_count": 26,
     "metadata": {},
     "output_type": "execute_result"
    }
   ],
   "source": [
    "# To print the result, just have the name, with nothing else\n",
    "myInteger"
   ]
  },
  {
   "cell_type": "code",
   "execution_count": 27,
   "metadata": {},
   "outputs": [
    {
     "ename": "TypeError",
     "evalue": "can only concatenate str (not \"int\") to str",
     "output_type": "error",
     "traceback": [
      "\u001B[0;31m---------------------------------------------------------------------------\u001B[0m",
      "\u001B[0;31mTypeError\u001B[0m                                 Traceback (most recent call last)",
      "\u001B[0;32m<ipython-input-27-2dbe425faf70>\u001B[0m in \u001B[0;36m<module>\u001B[0;34m\u001B[0m\n\u001B[1;32m      1\u001B[0m \u001B[0;31m# Addition between strings and integers can be done, casting is required\u001B[0m\u001B[0;34m\u001B[0m\u001B[0;34m\u001B[0m\u001B[0;34m\u001B[0m\u001B[0m\n\u001B[1;32m      2\u001B[0m \u001B[0;31m# The one below will throw an error\u001B[0m\u001B[0;34m\u001B[0m\u001B[0;34m\u001B[0m\u001B[0;34m\u001B[0m\u001B[0m\n\u001B[0;32m----> 3\u001B[0;31m \u001B[0mmyString\u001B[0m \u001B[0;34m+\u001B[0m \u001B[0mmyInteger\u001B[0m\u001B[0;34m\u001B[0m\u001B[0;34m\u001B[0m\u001B[0m\n\u001B[0m\u001B[1;32m      4\u001B[0m \u001B[0;34m\u001B[0m\u001B[0m\n",
      "\u001B[0;31mTypeError\u001B[0m: can only concatenate str (not \"int\") to str"
     ]
    }
   ],
   "source": [
    "# Addition between strings and integers can be done, casting is required\n",
    "# The one below will throw an error\n",
    "myString + myInteger"
   ]
  },
  {
   "cell_type": "code",
   "execution_count": null,
   "outputs": [],
   "source": [
    "# To cast from one value to an another use str()\n",
    "myString + str(myInteger)"
   ],
   "metadata": {
    "collapsed": false,
    "pycharm": {
     "name": "#%%\n"
    }
   }
  },
  {
   "cell_type": "markdown",
   "source": [
    "## A few notes about addition\n",
    "Adding like values will generally cast in a meaningful route, but some values differ from each other to a way that casting them isn't considered \"safe\".  This is an intentional design feature of this, and many other languages.\n",
    "\n",
    "A few examples are as follows:"
   ],
   "metadata": {
    "collapsed": false,
    "pycharm": {
     "name": "#%% md\n"
    }
   }
  },
  {
   "cell_type": "code",
   "execution_count": null,
   "outputs": [],
   "source": [
    "1+1  # Like numbers"
   ],
   "metadata": {
    "collapsed": false,
    "pycharm": {
     "name": "#%%\n"
    }
   }
  },
  {
   "cell_type": "code",
   "execution_count": null,
   "outputs": [],
   "source": [
    "1 + 2.5  # Another like number"
   ],
   "metadata": {
    "collapsed": false,
    "pycharm": {
     "name": "#%%\n"
    }
   }
  },
  {
   "cell_type": "code",
   "execution_count": null,
   "outputs": [],
   "source": [
    "\"1\" + 2.5  # Not a like number"
   ],
   "metadata": {
    "collapsed": false,
    "pycharm": {
     "name": "#%%\n"
    }
   }
  },
  {
   "cell_type": "markdown",
   "source": [
    "It's worth noting that when we mean \"like\" by this definition, we mean something that's more or less guaranteed to achive the desired output.  A string, that's of a specific value we may think is desired, but may not be desired in all cases.  So the point here is to be explicit about the desired output."
   ],
   "metadata": {
    "collapsed": false,
    "pycharm": {
     "name": "#%% md\n"
    }
   }
  },
  {
   "cell_type": "markdown",
   "source": [
    "## A few notes about casting\n",
    "\n",
    "Casting is an important concept.  Most all languages support some form of casting, some implicit and some explicit.\n",
    "The purpose of casting, in Python, is part to sure that it's intended.  Many languages do this implicitly, but in Python,\n",
    "it's explicit.\n",
    "\n",
    "Casting operations are based off the destination type.  Some common ones:\n",
    "1.  str() - Convert a number to a string\n",
    "2.  int() - Convert a value to an integer\n",
    "\n",
    "There are many types in Python, and many casting options.  float() can be another option."
   ],
   "metadata": {
    "collapsed": false,
    "pycharm": {
     "name": "#%% md\n"
    }
   }
  },
  {
   "cell_type": "code",
   "execution_count": null,
   "outputs": [],
   "source": [
    "print(\"The value of 1.5 is: \" + str(1.5) + \" and type is: \" + str(type(str(1.5))))\n",
    "print(\"The value of \\\"1.5\\\", as an int is: \" + str(int(1.5)) + \" and type is: \" + str(type(int(1.5))))\n",
    "\n",
    "# Some less common ones....\n",
    "print(\"The value of 1, as a float is: \" + str(float(1)) + \" and type is: \" + str(type(float(1))))"
   ],
   "metadata": {
    "collapsed": false,
    "pycharm": {
     "name": "#%%\n"
    }
   }
  },
  {
   "cell_type": "code",
   "execution_count": null,
   "outputs": [],
   "source": [
    "int(1.8)  #Note how this isn't rounding"
   ],
   "metadata": {
    "collapsed": false,
    "pycharm": {
     "name": "#%%\n"
    }
   }
  },
  {
   "cell_type": "markdown",
   "source": [
    "Reading the above is somewhat difficult to read, from a programmatic standpoint.  We can't add strings and ints.  This goes back to the casting discussion above.\n",
    "\n",
    "There are options to make this a lot nicer to read.\n",
    "\n",
    "## A few notes about string interpolation\n",
    "String interpolation is the process of embedding programmatic operations within a string output.  The nice thing about this is it takes care of a lot of stuff in the background, especially some casting, and overall makes for a lot cleaner code."
   ],
   "metadata": {
    "collapsed": false,
    "pycharm": {
     "name": "#%% md\n"
    }
   }
  },
  {
   "cell_type": "code",
   "execution_count": null,
   "outputs": [],
   "source": [
    "print(f\"The value of 1.5 is {str(1.5)} and the type is: {type(str(1.5))}\")\n",
    "print(f\"The value of 1, as a float is: {str(float(1))} and type is: {type(float(1))}\")\n",
    "\n",
    "# Note with the above is we're explicitly casting to show types, but most times that's not required and the above is for illustration purposes\n",
    "\n",
    "# more realistically...\n",
    "print(f\"The value of my special number is {myInteger}, and another special number is {myFloat}\")"
   ],
   "metadata": {
    "collapsed": false,
    "pycharm": {
     "name": "#%%]\n"
    }
   }
  },
  {
   "cell_type": "markdown",
   "source": [
    "String interpolation can also be used and assigned to a value."
   ],
   "metadata": {
    "collapsed": false,
    "pycharm": {
     "name": "#%% md\n"
    }
   }
  },
  {
   "cell_type": "code",
   "execution_count": null,
   "outputs": [],
   "source": [
    "myInterpolatedValue = f\"The value of myFloat is {myFloat}\"\n",
    "myInterpolatedValue"
   ],
   "metadata": {
    "collapsed": false,
    "pycharm": {
     "name": "#%%\n"
    }
   }
  },
  {
   "cell_type": "markdown",
   "source": [
    "## A few notes about coding conventions\n",
    "\n",
    "Python has a lot of coding conventions, and is included as reference in ICON.  But one useful one to illustrate here is the difference between a single quote (') and a double quote (\").  Largely speaking, these can be used interchangeably but often times it's useful to analyze the content of the string you're trying to store.\n",
    "\n",
    "Above, when I was concatenating strings, you probably noted the escaping of the quote.  This is important to know, because the quote you start a string with will need to terminate with the same character at the end of the string.  A few examples..."
   ],
   "metadata": {
    "collapsed": false,
    "pycharm": {
     "name": "#%% md\n"
    }
   }
  },
  {
   "cell_type": "code",
   "execution_count": null,
   "outputs": [],
   "source": [
    "print(\"Hello, 'world'\")  # No escaping\n",
    "print('Hello, \"world\"')  # again, no escaping\n",
    "print('Hello, \\'world\\'') #Same thing, now wish escaping\n",
    "print('Hello, \\\"world\\\"') #Again, same but escaping"
   ],
   "metadata": {
    "collapsed": false,
    "pycharm": {
     "name": "#%%\n"
    }
   }
  }
 ],
 "metadata": {
  "kernelspec": {
   "display_name": "Python 3",
   "language": "python",
   "name": "python3"
  },
  "language_info": {
   "codemirror_mode": {
    "name": "ipython",
    "version": 3
   },
   "file_extension": ".py",
   "mimetype": "text/x-python",
   "name": "python",
   "nbconvert_exporter": "python",
   "pygments_lexer": "ipython3",
   "version": "3.6.6+"
  }
 },
 "nbformat": 4,
 "nbformat_minor": 2
}